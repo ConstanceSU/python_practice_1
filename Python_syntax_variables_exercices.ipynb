{
  "cells": [
    {
      "cell_type": "markdown",
      "metadata": {
        "id": "view-in-github",
        "colab_type": "text"
      },
      "source": [
        "<a href=\"https://colab.research.google.com/github/ConstanceSU/python_practice_1/blob/main/Python_syntax_variables_exercices.ipynb\" target=\"_parent\"><img src=\"https://colab.research.google.com/assets/colab-badge.svg\" alt=\"Open In Colab\"/></a>"
      ]
    },
    {
      "cell_type": "markdown",
      "metadata": {
        "id": "IiV56P4-39RA"
      },
      "source": [
        "Exercise 1: Print a Greeting"
      ]
    },
    {
      "cell_type": "code",
      "execution_count": 47,
      "metadata": {
        "colab": {
          "base_uri": "https://localhost:8080/"
        },
        "id": "mW1Pb1s939RA",
        "outputId": "ced70276-5500-424a-e494-251bb5c85fb8"
      },
      "outputs": [
        {
          "output_type": "stream",
          "name": "stdout",
          "text": [
            "Hello, Python!\n"
          ]
        }
      ],
      "source": [
        "print( \"Hello, Python!\")"
      ]
    },
    {
      "cell_type": "markdown",
      "metadata": {
        "id": "KHpoPeYv39RB"
      },
      "source": [
        "Exercise 2: Basic Arithmetic\n",
        "● Create a program that:\n",
        "○ Defines two variables, a and b, with numerical values.\n",
        "○ Prints their sum, difference, product, and quotient."
      ]
    },
    {
      "cell_type": "code",
      "execution_count": 48,
      "metadata": {
        "colab": {
          "base_uri": "https://localhost:8080/"
        },
        "id": "JNforZ5A39RB",
        "outputId": "9652e14e-c187-4980-fb0d-69899bd10eb9"
      },
      "outputs": [
        {
          "output_type": "stream",
          "name": "stdout",
          "text": [
            "98235873734986669721560 -98235873734984917970408 86042402491493953536668491286784 8.916046070531004e-15\n"
          ]
        }
      ],
      "source": [
        "a = 875875576\n",
        "b = 98235873734985793845984\n",
        "total_sum = a + b\n",
        "difference = a - b\n",
        "product = a * b\n",
        "quotient = a / b\n",
        "\n",
        "print(total_sum, difference, product, quotient)"
      ]
    },
    {
      "cell_type": "markdown",
      "metadata": {
        "id": "2qrN7aW_39RC"
      },
      "source": [
        "Exercise 3: String Manipulation\n",
        "● Define a variable name and assign it your name. Write a program that prints a message saying\n",
        "\"Hello, [name]!\" where [name] is the value of the variable."
      ]
    },
    {
      "cell_type": "code",
      "execution_count": 49,
      "metadata": {
        "colab": {
          "base_uri": "https://localhost:8080/"
        },
        "id": "r3225m1N39RC",
        "outputId": "f077d5f5-76ab-460a-d00b-f8174fab6d1a"
      },
      "outputs": [
        {
          "output_type": "stream",
          "name": "stdout",
          "text": [
            "Hello, Yanzhu!\n"
          ]
        }
      ],
      "source": [
        "name = \"Yanzhu\"\n",
        "print(f\"Hello, {name}!\")"
      ]
    },
    {
      "cell_type": "markdown",
      "metadata": {
        "id": "Z5Kv6S5p39RC"
      },
      "source": [
        "Exercise 4: Lists\n",
        "● Create a list called universities with at least five different university names.\n",
        "● Print the entire list.\n",
        "● Print the first and last university in the list."
      ]
    },
    {
      "cell_type": "code",
      "execution_count": 50,
      "metadata": {
        "colab": {
          "base_uri": "https://localhost:8080/"
        },
        "id": "24DD8BpO39RC",
        "outputId": "03bc4d57-ea9b-4071-fa97-5795670cc214"
      },
      "outputs": [
        {
          "output_type": "stream",
          "name": "stdout",
          "text": [
            "['HEC Paris', 'ESSEC', 'ESCP', 'EMLyon', 'EDHEC']\n",
            "HEC Paris\n",
            "EDHEC\n"
          ]
        }
      ],
      "source": [
        "universities = [\"HEC Paris\", \"ESSEC\", \"ESCP\", \"EMLyon\", \"EDHEC\"]\n",
        "print(universities)\n",
        "print(universities[0])\n",
        "print(universities[-1])"
      ]
    },
    {
      "cell_type": "markdown",
      "metadata": {
        "id": "MjIiZR-q39RC"
      },
      "source": [
        "Exercise 5: Dictionaries\n",
        "● Create a dictionary called student with keys: name, age, and grade, and assign appropriate\n",
        "values to each key.\n",
        "● Write a program that prints each key-value pair in the dictionary."
      ]
    },
    {
      "cell_type": "code",
      "execution_count": 51,
      "metadata": {
        "colab": {
          "base_uri": "https://localhost:8080/"
        },
        "id": "o2t5S98Z39RC",
        "outputId": "e04ee3a3-6de6-4f9a-d92f-98f28b23a7fa"
      },
      "outputs": [
        {
          "output_type": "stream",
          "name": "stdout",
          "text": [
            "name:Constance\n",
            "age:24\n",
            "grade:A++++++\n"
          ]
        }
      ],
      "source": [
        "student = {\"name\": \"Constance\",\n",
        "           \"age\": 24,\n",
        "           \"grade\": \"A++++++\"}\n",
        "\n",
        "for key, value in student.items():\n",
        "    print(f\"{key}:{value}\")"
      ]
    },
    {
      "cell_type": "markdown",
      "metadata": {
        "id": "vP1QJFF539RC"
      },
      "source": [
        "Exercise 6: Tuples\n",
        "● Define a tuple called coordinates with two values representing a point in 2D space (e.g., (x, y)).\n",
        "● Print the value of coordinates and access each element by its index."
      ]
    },
    {
      "cell_type": "code",
      "execution_count": 52,
      "metadata": {
        "colab": {
          "base_uri": "https://localhost:8080/"
        },
        "id": "O87jlOVP39RC",
        "outputId": "77021e05-a9fd-42f2-d212-964aaa449ecc"
      },
      "outputs": [
        {
          "output_type": "stream",
          "name": "stdout",
          "text": [
            "(873575378, 98689276476238463)\n",
            "873575378\n",
            "98689276476238463\n"
          ]
        }
      ],
      "source": [
        "coordinates = (873575378, 98689276476238463)\n",
        "print(coordinates)\n",
        "print(coordinates[0])\n",
        "print(coordinates[1])"
      ]
    },
    {
      "cell_type": "markdown",
      "metadata": {
        "id": "IPCVQb6339RC"
      },
      "source": [
        "Exercise 7: Sets\n",
        "● Create a set called colors with the values: \"red\", \"green\", \"blue\".\n",
        "● Add another color to the set.\n",
        "● Try adding a duplicate color and observe what happens.\n",
        "● Print the set and remove one color from it.\n",
        "● Create another set named light_colors and merge colors and light_colors."
      ]
    },
    {
      "cell_type": "code",
      "execution_count": 53,
      "metadata": {
        "colab": {
          "base_uri": "https://localhost:8080/"
        },
        "id": "pHrK18nF39RD",
        "outputId": "dc64482e-7777-4ce3-879c-1eb7220ebb44"
      },
      "outputs": [
        {
          "output_type": "stream",
          "name": "stdout",
          "text": [
            "{'royal', 'blue', 'green', 'red'}\n",
            "{'royal', 'green', 'red'}\n",
            "{'royal', 'green', 'strawberry', 'red', 'rosybrown', 'lightcoral'}\n"
          ]
        }
      ],
      "source": [
        "colors = {\"red\", \"green\", \"blue\"}\n",
        "colors.add(\"royal\")\n",
        "colors.add(\"red\")\n",
        "print(colors)\n",
        "colors.remove(\"blue\")\n",
        "print(colors)\n",
        "light_colors = {\"rosybrown\", \"strawberry\", \"lightcoral\"}\n",
        "merged_colors = colors.union(light_colors)\n",
        "print(merged_colors)\n"
      ]
    },
    {
      "cell_type": "markdown",
      "metadata": {
        "id": "NYJRsC9F39RD"
      },
      "source": [
        "Exercise 8: Conditional Statements\n",
        "● Write a program that:\n",
        "    ○ Takes an input number from the user.\n",
        "    ○ Checks if the number is positive, negative, or zero.\n",
        "    ○ Prints an appropriate message based on the result."
      ]
    },
    {
      "cell_type": "code",
      "execution_count": 54,
      "metadata": {
        "colab": {
          "base_uri": "https://localhost:8080/"
        },
        "id": "p1Oc2zcq39RD",
        "outputId": "8171a79f-bc7a-4148-896b-8642f6e79323"
      },
      "outputs": [
        {
          "output_type": "stream",
          "name": "stdout",
          "text": [
            "The number is positive.\n"
          ]
        }
      ],
      "source": [
        "number = 8888888\n",
        "\n",
        "if number > 0:\n",
        "    print(\"The number is positive.\")\n",
        "elif number < 0:\n",
        "    print(\"The number is negative.\")\n",
        "else:\n",
        "    print(\"The number is zero.\")"
      ]
    },
    {
      "cell_type": "markdown",
      "metadata": {
        "id": "koco3LJu39RD"
      },
      "source": [
        "Exercise 9: For Loop\n",
        "● Create a list of numbers from 1 to 5.\n",
        "● Use a for loop to iterate through the list and print each number."
      ]
    },
    {
      "cell_type": "code",
      "execution_count": 55,
      "metadata": {
        "colab": {
          "base_uri": "https://localhost:8080/"
        },
        "id": "wQ0TU9h739RD",
        "outputId": "0516ac89-ff35-4863-adc9-a399c9f7158b"
      },
      "outputs": [
        {
          "output_type": "stream",
          "name": "stdout",
          "text": [
            "1\n",
            "2\n",
            "3\n",
            "4\n",
            "5\n"
          ]
        }
      ],
      "source": [
        "numbers = [1, 2, 3, 4, 5]\n",
        "for number in numbers:\n",
        "    print(number)"
      ]
    },
    {
      "cell_type": "markdown",
      "metadata": {
        "id": "EVcoo1cN39RD"
      },
      "source": [
        "Exercise 10: While Loop\n",
        "● Write a program that uses a while loop to print numbers from 1 to 5.\n",
        "● Ensure the loop terminates correctly"
      ]
    },
    {
      "cell_type": "code",
      "execution_count": 56,
      "metadata": {
        "colab": {
          "base_uri": "https://localhost:8080/"
        },
        "id": "1F-aRop439RD",
        "outputId": "534c877c-3db1-4bf8-a5d1-1ea599b66001"
      },
      "outputs": [
        {
          "output_type": "stream",
          "name": "stdout",
          "text": [
            "1\n",
            "2\n",
            "3\n",
            "4\n",
            "5\n"
          ]
        }
      ],
      "source": [
        "number = 1\n",
        "while number <= 5:\n",
        "    print(number)\n",
        "    number += 1"
      ]
    },
    {
      "cell_type": "markdown",
      "metadata": {
        "id": "YFnhWsd539RD"
      },
      "source": [
        "Exercise 11: Match Statement (Python 3.10+)\n",
        "● Write a program that:\n",
        "    ○ Asks the user to input a grade (e.g., \"A\", \"B\", \"C\", \"D\", or \"F\").\n",
        "    ○ Use a match statement to print a corresponding message for each grade:\n",
        "        ■ \"A\": \"Excellent!\"\n",
        "        ■ \"B\": \"Good job!\"\n",
        "        ■ \"C\": \"Fair.\"\n",
        "        ■ \"D\": \"Needs improvement.\"\n",
        "        ■ \"F\": \"Failing.\"\n",
        "    ○ Handle invalid input by printing a default message."
      ]
    },
    {
      "cell_type": "code",
      "execution_count": 57,
      "metadata": {
        "colab": {
          "base_uri": "https://localhost:8080/"
        },
        "id": "QSYYNvRs39RD",
        "outputId": "7950ae73-b5de-458b-d0d2-83e2f7026eb9"
      },
      "outputs": [
        {
          "output_type": "stream",
          "name": "stdout",
          "text": [
            "Good job!\n"
          ]
        }
      ],
      "source": [
        "grade = \"B\"\n",
        "match grade:\n",
        "    case \"A\":\n",
        "        print(\"Excellent!\")\n",
        "    case \"B\":\n",
        "        print(\"Good job!\")\n",
        "    case \"C\":\n",
        "        print(\"Fair.\")\n",
        "    case \"D\":\n",
        "        print(\"Needs improvement.\")\n",
        "    case \"F\":\n",
        "        print(\"Failing.\")\n",
        "    case _:\n",
        "        print(\"Invalid grade, please enter:A, B, C, D, or F.\")\n"
      ]
    },
    {
      "cell_type": "markdown",
      "metadata": {
        "id": "pg3HUcZC39RD"
      },
      "source": [
        "Exercise 12: Define a Function\n",
        "● Write a function called greet that takes a name as an argument and prints \"Hello, [name]!\".\n",
        "● Call the function with your own name."
      ]
    },
    {
      "cell_type": "code",
      "execution_count": 58,
      "metadata": {
        "colab": {
          "base_uri": "https://localhost:8080/"
        },
        "id": "qg4yiEIT39RD",
        "outputId": "36efa468-120d-4e02-ed73-dee5557dff81"
      },
      "outputs": [
        {
          "output_type": "stream",
          "name": "stdout",
          "text": [
            "Hello, Yanzhu!\n"
          ]
        }
      ],
      "source": [
        "def greet(name):\n",
        "    print(f\"Hello, {name}!\")\n",
        "\n",
        "greet(\"Yanzhu\")"
      ]
    },
    {
      "cell_type": "markdown",
      "metadata": {
        "id": "utZuBp5V39RD"
      },
      "source": [
        "Exercise 13: Function with Return Value\n",
        "● Define a function called square that takes a number as an argument and returns its square.\n",
        "● Print the result of calling this function with different numbers."
      ]
    },
    {
      "cell_type": "code",
      "execution_count": 59,
      "metadata": {
        "colab": {
          "base_uri": "https://localhost:8080/"
        },
        "id": "D9VIS81d39RD",
        "outputId": "cef89995-7aaa-42e5-8abf-1cfff4cdd387"
      },
      "outputs": [
        {
          "output_type": "stream",
          "name": "stdout",
          "text": [
            "3^2 = 9\n",
            "5^2 = 25\n",
            "7^2 = 49\n"
          ]
        }
      ],
      "source": [
        "def square(number):\n",
        "    return number * number\n",
        "\n",
        "print(\"3^2 =\", square(3))\n",
        "print(\"5^2 =\", square(5))\n",
        "print(\"7^2 =\", square(7))"
      ]
    },
    {
      "cell_type": "markdown",
      "metadata": {
        "id": "sJ3OEaJN39RD"
      },
      "source": [
        "Exercise 14: Function with Default Parameters\n",
        "● Write a function called multiply that takes two parameters, a and b, and returns their product.\n",
        "Set a default value of 1 for the parameter b.\n",
        "● Test the function with and without providing the second argument"
      ]
    },
    {
      "cell_type": "code",
      "execution_count": 60,
      "metadata": {
        "colab": {
          "base_uri": "https://localhost:8080/"
        },
        "id": "wD93JyiE39RD",
        "outputId": "536af23d-ae52-416a-f5b8-064a0477846e"
      },
      "outputs": [
        {
          "output_type": "stream",
          "name": "stdout",
          "text": [
            "7088619\n",
            "435432\n"
          ]
        }
      ],
      "source": [
        "def multiply(a, b=1):\n",
        "    return a * b\n",
        "\n",
        "print(multiply(2362873, 3))\n",
        "print(multiply(435432))"
      ]
    },
    {
      "cell_type": "markdown",
      "metadata": {
        "id": "3ujIQhWQ39RD"
      },
      "source": [
        "Exercise 15: List Comprehension\n",
        "● Create a list of numbers from 1 to 10.\n",
        "● Use list comprehension to create a new list that contains the squares of these numbers.\n",
        "● Print the new list."
      ]
    },
    {
      "cell_type": "code",
      "execution_count": 61,
      "metadata": {
        "colab": {
          "base_uri": "https://localhost:8080/"
        },
        "id": "EYO6FXk439RD",
        "outputId": "9b5dad81-1e32-4140-94a7-d31f2eb2670c"
      },
      "outputs": [
        {
          "output_type": "stream",
          "name": "stdout",
          "text": [
            "[1, 4, 9, 16, 25, 36, 49, 64, 81, 100]\n"
          ]
        }
      ],
      "source": [
        "numbers = list(range(1, 11))\n",
        "squares = [num ** 2 for num in numbers]\n",
        "print(squares)"
      ]
    },
    {
      "cell_type": "markdown",
      "metadata": {
        "id": "ZJRgZKJF39RE"
      },
      "source": [
        "Exercise 16: Nested Data Structures\n",
        "● Create a dictionary where the keys are names of students and the values are lists of their grades.\n",
        "● Write a function that takes the dictionary and prints the average grade for each student."
      ]
    },
    {
      "cell_type": "code",
      "execution_count": 62,
      "metadata": {
        "colab": {
          "base_uri": "https://localhost:8080/"
        },
        "id": "1CKFqei939RE",
        "outputId": "1544b6c0-1eea-41f4-c0ee-f3d381fe4a56"
      },
      "outputs": [
        {
          "output_type": "stream",
          "name": "stdout",
          "text": [
            "Timo's average grade = 65.0\n",
            "Carlota's average grade = 95.3\n",
            "Jakob's average grade = 67.3\n",
            "Marcos's average grade = 86.0\n"
          ]
        }
      ],
      "source": [
        "import builtins\n",
        "\n",
        "students_grades = {\n",
        "    \"Timo\": [60, 65, 70],\n",
        "    \"Carlota\": [99, 89, 98],\n",
        "    \"Jakob\": [45, 72, 85],\n",
        "    \"Marcos\": [88, 76, 94]\n",
        "}\n",
        "\n",
        "def calculate_average(students):\n",
        "    for student, grades in students.items():\n",
        "        avg = builtins.sum(grades) / len(grades)  # Use built-in sum explicitly\n",
        "        print(f\"{student}'s average grade = {avg:.1f}\")\n",
        "\n",
        "calculate_average(students_grades)"
      ]
    },
    {
      "cell_type": "markdown",
      "metadata": {
        "id": "Y_b0wgVn39RE"
      },
      "source": [
        "Exercise 17: Simple Calculator\n",
        "● Write a program that:\n",
        "○ Defines a function calculate which takes three parameters: two numbers and an operator (+, -, *, /).\n",
        "○ Performs the operation and returns the result.\n",
        "○ Ask the user for the two numbers and the operator, then call the function and print the result."
      ]
    },
    {
      "cell_type": "code",
      "execution_count": 63,
      "metadata": {
        "colab": {
          "base_uri": "https://localhost:8080/"
        },
        "id": "OCcx379j39RE",
        "outputId": "4e735e3b-1d00-4f26-cca9-27b11699102e"
      },
      "outputs": [
        {
          "output_type": "stream",
          "name": "stdout",
          "text": [
            "2.0\n"
          ]
        }
      ],
      "source": [
        "def calculate(num1, num2, operator):\n",
        "    if operator == '+':\n",
        "        return num1 + num2\n",
        "    elif operator == '-':\n",
        "        return num1 - num2\n",
        "    elif operator == '*':\n",
        "        return num1 * num2\n",
        "    elif operator == '/':\n",
        "        if num2 == 0:\n",
        "            return \"Error: Division by zero\"\n",
        "        return num1 / num2\n",
        "    else:\n",
        "        return \"Invalid operator\"\n",
        "\n",
        "num1 = 10.0\n",
        "num2 = 5.0\n",
        "operator = '/'\n",
        "\n",
        "result = calculate(num1, num2, operator)\n",
        "print(f\"{result}\")"
      ]
    }
  ],
  "metadata": {
    "kernelspec": {
      "display_name": "Python 3",
      "language": "python",
      "name": "python3"
    },
    "language_info": {
      "codemirror_mode": {
        "name": "ipython",
        "version": 3
      },
      "file_extension": ".py",
      "mimetype": "text/x-python",
      "name": "python",
      "nbconvert_exporter": "python",
      "pygments_lexer": "ipython3",
      "version": "3.11.2"
    },
    "orig_nbformat": 4,
    "colab": {
      "provenance": [],
      "include_colab_link": true
    }
  },
  "nbformat": 4,
  "nbformat_minor": 0
}