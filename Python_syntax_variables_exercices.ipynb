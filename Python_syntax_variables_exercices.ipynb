{
 "cells": [
  {
   "attachments": {},
   "cell_type": "markdown",
   "metadata": {},
   "source": [
    "Exercise 1: Print a Greeting"
   ]
  },
  {
   "cell_type": "code",
   "execution_count": 1,
   "metadata": {},
   "outputs": [
    {
     "name": "stdout",
     "output_type": "stream",
     "text": [
      "Hello, Python!\n"
     ]
    }
   ],
   "source": [
    "print( \"Hello, Python!\")"
   ]
  },
  {
   "attachments": {},
   "cell_type": "markdown",
   "metadata": {},
   "source": [
    "Exercise 2: Basic Arithmetic\n",
    "● Create a program that:\n",
    "○ Defines two variables, a and b, with numerical values.\n",
    "○ Prints their sum, difference, product, and quotient."
   ]
  },
  {
   "cell_type": "code",
   "execution_count": 2,
   "metadata": {},
   "outputs": [
    {
     "name": "stdout",
     "output_type": "stream",
     "text": [
      "98235873734986669721560 -98235873734984917970408 86042402491493953536668491286784 8.916046070531004e-15\n"
     ]
    }
   ],
   "source": [
    "a = 875875576\n",
    "b = 98235873734985793845984\n",
    "sum = a + b\n",
    "difference = a - b\n",
    "product = a * b\n",
    "quotient = a / b\n",
    "\n",
    "print(sum, difference, product, quotient)"
   ]
  },
  {
   "attachments": {},
   "cell_type": "markdown",
   "metadata": {},
   "source": [
    "Exercise 3: String Manipulation\n",
    "● Define a variable name and assign it your name. Write a program that prints a message saying\n",
    "\"Hello, [name]!\" where [name] is the value of the variable."
   ]
  },
  {
   "cell_type": "code",
   "execution_count": 3,
   "metadata": {},
   "outputs": [
    {
     "name": "stdout",
     "output_type": "stream",
     "text": [
      "Hello, Yanzhu!\n"
     ]
    }
   ],
   "source": [
    "name = \"Yanzhu\"\n",
    "print(f\"Hello, {name}!\")"
   ]
  },
  {
   "attachments": {},
   "cell_type": "markdown",
   "metadata": {},
   "source": [
    "Exercise 4: Lists\n",
    "● Create a list called universities with at least five different university names.\n",
    "● Print the entire list.\n",
    "● Print the first and last university in the list."
   ]
  },
  {
   "cell_type": "code",
   "execution_count": 4,
   "metadata": {},
   "outputs": [
    {
     "name": "stdout",
     "output_type": "stream",
     "text": [
      "['HEC Paris', 'ESSEC', 'ESCP', 'EMLyon', 'EDHEC']\n",
      "HEC Paris\n",
      "EDHEC\n"
     ]
    }
   ],
   "source": [
    "universities = [\"HEC Paris\", \"ESSEC\", \"ESCP\", \"EMLyon\", \"EDHEC\"]\n",
    "print(universities)\n",
    "print(universities[0])\n",
    "print(universities[-1])"
   ]
  },
  {
   "attachments": {},
   "cell_type": "markdown",
   "metadata": {},
   "source": [
    "Exercise 5: Dictionaries\n",
    "● Create a dictionary called student with keys: name, age, and grade, and assign appropriate\n",
    "values to each key.\n",
    "● Write a program that prints each key-value pair in the dictionary."
   ]
  },
  {
   "cell_type": "code",
   "execution_count": 5,
   "metadata": {},
   "outputs": [
    {
     "name": "stdout",
     "output_type": "stream",
     "text": [
      "name:Constance\n",
      "age:24\n",
      "grade:A++++++\n"
     ]
    }
   ],
   "source": [
    "student = {\"name\": \"Constance\",\n",
    "           \"age\": 24,\n",
    "           \"grade\": \"A++++++\"}\n",
    "\n",
    "for key, value in student.items():\n",
    "    print(f\"{key}:{value}\")"
   ]
  },
  {
   "attachments": {},
   "cell_type": "markdown",
   "metadata": {},
   "source": [
    "Exercise 6: Tuples\n",
    "● Define a tuple called coordinates with two values representing a point in 2D space (e.g., (x, y)).\n",
    "● Print the value of coordinates and access each element by its index."
   ]
  },
  {
   "cell_type": "code",
   "execution_count": 6,
   "metadata": {},
   "outputs": [
    {
     "name": "stdout",
     "output_type": "stream",
     "text": [
      "(873575378, 98689276476238463)\n",
      "873575378\n",
      "98689276476238463\n"
     ]
    }
   ],
   "source": [
    "coordinates = (873575378, 98689276476238463)\n",
    "print(coordinates)\n",
    "print(coordinates[0])\n",
    "print(coordinates[1])"
   ]
  },
  {
   "attachments": {},
   "cell_type": "markdown",
   "metadata": {},
   "source": [
    "Exercise 7: Sets\n",
    "● Create a set called colors with the values: \"red\", \"green\", \"blue\".\n",
    "● Add another color to the set.\n",
    "● Try adding a duplicate color and observe what happens.\n",
    "● Print the set and remove one color from it.\n",
    "● Create another set named light_colors and merge colors and light_colors."
   ]
  },
  {
   "cell_type": "code",
   "execution_count": 7,
   "metadata": {},
   "outputs": [
    {
     "name": "stdout",
     "output_type": "stream",
     "text": [
      "{'blue', 'royal', 'green', 'red'}\n",
      "{'royal', 'green', 'red'}\n",
      "{'rosybrown', 'strawberry', 'royal', 'lightcoral', 'green', 'red'}\n"
     ]
    }
   ],
   "source": [
    "colors = {\"red\", \"green\", \"blue\"}\n",
    "colors.add(\"royal\")\n",
    "colors.add(\"red\")\n",
    "print(colors)\n",
    "colors.remove(\"blue\")\n",
    "print(colors)\n",
    "light_colors = {\"rosybrown\", \"strawberry\", \"lightcoral\"}\n",
    "merged_colors = colors.union(light_colors)\n",
    "print(merged_colors)\n"
   ]
  },
  {
   "attachments": {},
   "cell_type": "markdown",
   "metadata": {},
   "source": [
    "Exercise 8: Conditional Statements\n",
    "● Write a program that:\n",
    "    ○ Takes an input number from the user.\n",
    "    ○ Checks if the number is positive, negative, or zero.\n",
    "    ○ Prints an appropriate message based on the result."
   ]
  },
  {
   "cell_type": "code",
   "execution_count": 8,
   "metadata": {},
   "outputs": [
    {
     "name": "stdout",
     "output_type": "stream",
     "text": [
      "The number is positive.\n"
     ]
    }
   ],
   "source": [
    "number = 8888888\n",
    "\n",
    "if number > 0:\n",
    "    print(\"The number is positive.\")\n",
    "elif number < 0:\n",
    "    print(\"The number is negative.\")\n",
    "else:\n",
    "    print(\"The number is zero.\")"
   ]
  },
  {
   "attachments": {},
   "cell_type": "markdown",
   "metadata": {},
   "source": [
    "Exercise 9: For Loop\n",
    "● Create a list of numbers from 1 to 5.\n",
    "● Use a for loop to iterate through the list and print each number."
   ]
  },
  {
   "cell_type": "code",
   "execution_count": 9,
   "metadata": {},
   "outputs": [
    {
     "name": "stdout",
     "output_type": "stream",
     "text": [
      "1\n",
      "2\n",
      "3\n",
      "4\n",
      "5\n"
     ]
    }
   ],
   "source": [
    "numbers = [1, 2, 3, 4, 5]\n",
    "for number in numbers:\n",
    "    print(number)"
   ]
  },
  {
   "attachments": {},
   "cell_type": "markdown",
   "metadata": {},
   "source": [
    "Exercise 10: While Loop\n",
    "● Write a program that uses a while loop to print numbers from 1 to 5.\n",
    "● Ensure the loop terminates correctly"
   ]
  },
  {
   "cell_type": "code",
   "execution_count": 10,
   "metadata": {},
   "outputs": [
    {
     "name": "stdout",
     "output_type": "stream",
     "text": [
      "1\n",
      "2\n",
      "3\n",
      "4\n",
      "5\n"
     ]
    }
   ],
   "source": [
    "number = 1\n",
    "while number <= 5:\n",
    "    print(number)\n",
    "    number += 1 "
   ]
  },
  {
   "attachments": {},
   "cell_type": "markdown",
   "metadata": {},
   "source": [
    "Exercise 11: Match Statement (Python 3.10+)\n",
    "● Write a program that:\n",
    "    ○ Asks the user to input a grade (e.g., \"A\", \"B\", \"C\", \"D\", or \"F\").\n",
    "    ○ Use a match statement to print a corresponding message for each grade:\n",
    "        ■ \"A\": \"Excellent!\"\n",
    "        ■ \"B\": \"Good job!\"\n",
    "        ■ \"C\": \"Fair.\"\n",
    "        ■ \"D\": \"Needs improvement.\"\n",
    "        ■ \"F\": \"Failing.\"\n",
    "    ○ Handle invalid input by printing a default message."
   ]
  },
  {
   "cell_type": "code",
   "execution_count": 11,
   "metadata": {},
   "outputs": [
    {
     "name": "stdout",
     "output_type": "stream",
     "text": [
      "Good job!\n"
     ]
    }
   ],
   "source": [
    "grade = \"B\"\n",
    "match grade:\n",
    "    case \"A\":\n",
    "        print(\"Excellent!\")\n",
    "    case \"B\":\n",
    "        print(\"Good job!\")\n",
    "    case \"C\":\n",
    "        print(\"Fair.\")\n",
    "    case \"D\":\n",
    "        print(\"Needs improvement.\")\n",
    "    case \"F\":\n",
    "        print(\"Failing.\")\n",
    "    case _:\n",
    "        print(\"Invalid grade, please enter:A, B, C, D, or F.\") \n"
   ]
  },
  {
   "attachments": {},
   "cell_type": "markdown",
   "metadata": {},
   "source": [
    "Exercise 12: Define a Function\n",
    "● Write a function called greet that takes a name as an argument and prints \"Hello, [name]!\".\n",
    "● Call the function with your own name."
   ]
  },
  {
   "cell_type": "code",
   "execution_count": 12,
   "metadata": {},
   "outputs": [
    {
     "name": "stdout",
     "output_type": "stream",
     "text": [
      "Hello, Yanzhu!\n"
     ]
    }
   ],
   "source": [
    "def greet(name):\n",
    "    print(f\"Hello, {name}!\")\n",
    "\n",
    "greet(\"Yanzhu\")"
   ]
  },
  {
   "attachments": {},
   "cell_type": "markdown",
   "metadata": {},
   "source": [
    "Exercise 13: Function with Return Value\n",
    "● Define a function called square that takes a number as an argument and returns its square.\n",
    "● Print the result of calling this function with different numbers."
   ]
  },
  {
   "cell_type": "code",
   "execution_count": 13,
   "metadata": {},
   "outputs": [
    {
     "name": "stdout",
     "output_type": "stream",
     "text": [
      "3^2 = 9\n",
      "5^2 = 25\n",
      "7^2 = 49\n"
     ]
    }
   ],
   "source": [
    "def square(number):\n",
    "    return number * number\n",
    "\n",
    "print(\"3^2 =\", square(3))\n",
    "print(\"5^2 =\", square(5))\n",
    "print(\"7^2 =\", square(7))"
   ]
  },
  {
   "attachments": {},
   "cell_type": "markdown",
   "metadata": {},
   "source": [
    "Exercise 14: Function with Default Parameters\n",
    "● Write a function called multiply that takes two parameters, a and b, and returns their product.\n",
    "Set a default value of 1 for the parameter b.\n",
    "● Test the function with and without providing the second argument"
   ]
  },
  {
   "cell_type": "code",
   "execution_count": 14,
   "metadata": {},
   "outputs": [
    {
     "name": "stdout",
     "output_type": "stream",
     "text": [
      "7088619\n",
      "435432\n"
     ]
    }
   ],
   "source": [
    "def multiply(a, b=1):\n",
    "    return a * b\n",
    "\n",
    "print(multiply(2362873, 3))\n",
    "print(multiply(435432))"
   ]
  },
  {
   "attachments": {},
   "cell_type": "markdown",
   "metadata": {},
   "source": [
    "Exercise 15: List Comprehension\n",
    "● Create a list of numbers from 1 to 10.\n",
    "● Use list comprehension to create a new list that contains the squares of these numbers.\n",
    "● Print the new list."
   ]
  },
  {
   "cell_type": "code",
   "execution_count": 15,
   "metadata": {},
   "outputs": [
    {
     "name": "stdout",
     "output_type": "stream",
     "text": [
      "[1, 4, 9, 16, 25, 36, 49, 64, 81, 100]\n"
     ]
    }
   ],
   "source": [
    "numbers = list(range(1, 11))\n",
    "squares = [num ** 2 for num in numbers]\n",
    "print(squares)"
   ]
  },
  {
   "attachments": {},
   "cell_type": "markdown",
   "metadata": {},
   "source": [
    "Exercise 16: Nested Data Structures\n",
    "● Create a dictionary where the keys are names of students and the values are lists of their grades.\n",
    "● Write a function that takes the dictionary and prints the average grade for each student."
   ]
  },
  {
   "cell_type": "code",
   "execution_count": 16,
   "metadata": {},
   "outputs": [
    {
     "ename": "TypeError",
     "evalue": "'int' object is not callable",
     "output_type": "error",
     "traceback": [
      "\u001b[0;31m---------------------------------------------------------------------------\u001b[0m",
      "\u001b[0;31mTypeError\u001b[0m                                 Traceback (most recent call last)",
      "Cell \u001b[0;32mIn[16], line 12\u001b[0m\n\u001b[1;32m      9\u001b[0m         average \u001b[39m=\u001b[39m \u001b[39msum\u001b[39m(grades) \u001b[39m/\u001b[39m \u001b[39mlen\u001b[39m(grades)\n\u001b[1;32m     10\u001b[0m         \u001b[39mprint\u001b[39m(\u001b[39mf\u001b[39m\u001b[39m\"\u001b[39m\u001b[39m{\u001b[39;00mstudent\u001b[39m}\u001b[39;00m\u001b[39m'\u001b[39m\u001b[39ms average grade = \u001b[39m\u001b[39m{\u001b[39;00maverage\u001b[39m:\u001b[39;00m\u001b[39m.1f\u001b[39m\u001b[39m}\u001b[39;00m\u001b[39m\"\u001b[39m)\n\u001b[0;32m---> 12\u001b[0m average(students_grades)\n",
      "Cell \u001b[0;32mIn[16], line 9\u001b[0m, in \u001b[0;36maverage\u001b[0;34m(students)\u001b[0m\n\u001b[1;32m      7\u001b[0m \u001b[39mdef\u001b[39;00m \u001b[39maverage\u001b[39m(students):\n\u001b[1;32m      8\u001b[0m     \u001b[39mfor\u001b[39;00m student, grades \u001b[39min\u001b[39;00m students\u001b[39m.\u001b[39mitems():\n\u001b[0;32m----> 9\u001b[0m         average \u001b[39m=\u001b[39m \u001b[39msum\u001b[39;49m(grades) \u001b[39m/\u001b[39m \u001b[39mlen\u001b[39m(grades)\n\u001b[1;32m     10\u001b[0m         \u001b[39mprint\u001b[39m(\u001b[39mf\u001b[39m\u001b[39m\"\u001b[39m\u001b[39m{\u001b[39;00mstudent\u001b[39m}\u001b[39;00m\u001b[39m'\u001b[39m\u001b[39ms average grade = \u001b[39m\u001b[39m{\u001b[39;00maverage\u001b[39m:\u001b[39;00m\u001b[39m.1f\u001b[39m\u001b[39m}\u001b[39;00m\u001b[39m\"\u001b[39m)\n",
      "\u001b[0;31mTypeError\u001b[0m: 'int' object is not callable"
     ]
    }
   ],
   "source": [
    "students_grades = {\n",
    "    \"Timo\": [60, 65, 70],\n",
    "    \"Carlota\": [99, 89, 98],\n",
    "    \"Jakob\": [45, 72, 85],\n",
    "    \"Marcos\": [88, 76, 94]\n",
    "}\n",
    "def average(students):\n",
    "    for student, grades in students.items():\n",
    "        average = sum(grades) / len(grades)\n",
    "        print(f\"{student}'s average grade = {average:.1f}\")\n",
    "\n",
    "average(students_grades)"
   ]
  },
  {
   "attachments": {},
   "cell_type": "markdown",
   "metadata": {},
   "source": [
    "Exercise 17: Simple Calculator\n",
    "● Write a program that:\n",
    "○ Defines a function calculate which takes three parameters: two numbers and an operator (+, -, *, /).\n",
    "○ Performs the operation and returns the result.\n",
    "○ Ask the user for the two numbers and the operator, then call the function and print the result."
   ]
  },
  {
   "cell_type": "code",
   "execution_count": null,
   "metadata": {},
   "outputs": [
    {
     "name": "stdout",
     "output_type": "stream",
     "text": [
      "2.0\n"
     ]
    }
   ],
   "source": [
    "def calculate(num1, num2, operator):\n",
    "    if operator == '+':\n",
    "        return num1 + num2\n",
    "    elif operator == '-':\n",
    "        return num1 - num2\n",
    "    elif operator == '*':\n",
    "        return num1 * num2\n",
    "    elif operator == '/':\n",
    "        if num2 == 0:\n",
    "            return \"Error: Division by zero\"\n",
    "        return num1 / num2\n",
    "    else:\n",
    "        return \"Invalid operator\"\n",
    "\n",
    "num1 = 10.0  \n",
    "num2 = 5.0   \n",
    "operator = '/' \n",
    "\n",
    "result = calculate(num1, num2, operator)\n",
    "print(f\"{result}\")"
   ]
  }
 ],
 "metadata": {
  "kernelspec": {
   "display_name": "Python 3",
   "language": "python",
   "name": "python3"
  },
  "language_info": {
   "codemirror_mode": {
    "name": "ipython",
    "version": 3
   },
   "file_extension": ".py",
   "mimetype": "text/x-python",
   "name": "python",
   "nbconvert_exporter": "python",
   "pygments_lexer": "ipython3",
   "version": "3.11.2"
  },
  "orig_nbformat": 4
 },
 "nbformat": 4,
 "nbformat_minor": 2
}
